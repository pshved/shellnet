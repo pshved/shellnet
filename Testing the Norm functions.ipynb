{
 "cells": [
  {
   "cell_type": "code",
   "execution_count": 4,
   "metadata": {},
   "outputs": [],
   "source": [
    "import tensorflow as tf"
   ]
  },
  {
   "cell_type": "code",
   "execution_count": 5,
   "metadata": {},
   "outputs": [],
   "source": [
    "# A shape is (N, P_A, C), B shape is (N, P_B, C)\n",
    "# D shape is (N, P_A, P_B)                                                             \n",
    "def batch_distance_matrix_general(A, B):\n",
    "    \"\"\"L2 squared\"\"\"\n",
    "    r_A = tf.reduce_sum(A * A, axis=2, keepdims=True)                                  \n",
    "    r_B = tf.reduce_sum(B * B, axis=2, keepdims=True)\n",
    "    m = tf.matmul(A, tf.transpose(B, perm=(0, 2, 1)))\n",
    "    D = r_A - 2 * m + tf.transpose(r_B, perm=(0, 2, 1))\n",
    "    return D  "
   ]
  },
  {
   "cell_type": "code",
   "execution_count": 6,
   "metadata": {},
   "outputs": [
    {
     "name": "stdout",
     "output_type": "stream",
     "text": [
      "[[[2.4300022  2.9199963  3.4700012 ]\n",
      "  [0.83000374 0.7199993  0.66999817]]]\n"
     ]
    }
   ],
   "source": [
    "A = tf.constant([[[1.0, 2.0, 3.0], [2.0, 3.0, 4.0]]])\n",
    "B = tf.constant([[[1.1, 3.1, 4.1], [1.2, 3.2, 4.2], [1.3, 3.3, 4.3]]])\n",
    "with tf.Session() as sess:\n",
    "    print(batch_distance_matrix_general(A, B).eval())"
   ]
  },
  {
   "cell_type": "code",
   "execution_count": 7,
   "metadata": {},
   "outputs": [
    {
     "name": "stdout",
     "output_type": "stream",
     "text": [
      "(1, 3, 2, 1)\n",
      "[[[[1.]\n",
      "   [1.]]\n",
      "\n",
      "  [[1.]\n",
      "   [1.]]\n",
      "\n",
      "  [[1.]\n",
      "   [1.]]]]\n",
      "(1, 3, 3, 1)\n",
      "[[[[1.]\n",
      "   [1.]\n",
      "   [1.]]\n",
      "\n",
      "  [[1.]\n",
      "   [1.]\n",
      "   [1.]]\n",
      "\n",
      "  [[1.]\n",
      "   [1.]\n",
      "   [1.]]]]\n",
      "A_exp (1, 3, 2, 3)\n",
      "[[[[1. 1. 1.]\n",
      "   [2. 2. 2.]]\n",
      "\n",
      "  [[2. 2. 2.]\n",
      "   [3. 3. 3.]]\n",
      "\n",
      "  [[3. 3. 3.]\n",
      "   [4. 4. 4.]]]]\n",
      "B_exp (1, 3, 2, 3)\n",
      "[[[[1.1 1.2 1.3]\n",
      "   [1.1 1.2 1.3]]\n",
      "\n",
      "  [[3.1 3.2 3.3]\n",
      "   [3.1 3.2 3.3]]\n",
      "\n",
      "  [[4.1 4.2 4.3]\n",
      "   [4.1 4.2 4.3]]]]\n",
      "diff (1, 2, 3)\n",
      "[[[1.0999999  1.2        1.3000002 ]\n",
      "  [0.9        0.79999995 0.70000005]]]\n",
      "[[[1.0999999  1.2        1.3000002 ]\n",
      "  [0.9        0.79999995 0.70000005]]]\n"
     ]
    }
   ],
   "source": [
    "# A shape is (N, P_A, C), B shape is (N, P_B, C)\n",
    "# D shape is (N, P_A, P_B)                                                             \n",
    "def batch_distance_matrix_general_l1_(A, B):\n",
    "    \"\"\"L1 norm\"\"\"\n",
    "    Ac = tf.transpose(tf.expand_dims(A, axis=-1), perm=(0,2,1,3))\n",
    "    Bc = tf.transpose(tf.expand_dims(B, axis=-1), perm=(0,2,1,3))\n",
    "    #A_1s = tf.expand_dims(tf.ones_like(Ac), axis=3)\n",
    "    #B_1s = tf.expand_dims(tf.ones_like(Bc), axis=2)\n",
    "    A_1s = tf.ones_like(Ac)\n",
    "    B_1s = tf.ones_like(Bc)\n",
    "    \n",
    "    print(A_1s.shape)\n",
    "    print(A_1s.eval())\n",
    "    print(B_1s.shape)\n",
    "    print(B_1s.eval())\n",
    "    \n",
    "    A_exp = tf.matmul(Ac, tf.transpose(B_1s, perm=(0,1,3,2)))\n",
    "    print(\"A_exp\", A_exp.shape)\n",
    "    print(A_exp.eval())\n",
    "    B_exp = tf.matmul(A_1s, tf.transpose(Bc, perm=(0,1,3,2)))\n",
    "    print(\"B_exp\", B_exp.shape)\n",
    "    print(B_exp.eval())\n",
    "    \n",
    "    D = tf.reduce_max(tf.abs(A_exp - B_exp), axis=1)\n",
    "    print(\"diff\", D.shape)\n",
    "    print(D.eval())\n",
    "    \n",
    "    return D\n",
    "with tf.Session() as sess:\n",
    "    print(batch_distance_matrix_general_l1_(A, B).eval())"
   ]
  },
  {
   "cell_type": "code",
   "execution_count": 33,
   "metadata": {},
   "outputs": [
    {
     "name": "stdout",
     "output_type": "stream",
     "text": [
      "(1, 2, 3)\n",
      "[[[1.0999999  1.2        1.3000002 ]\n",
      "  [0.9        0.79999995 0.70000005]]]\n"
     ]
    }
   ],
   "source": [
    "# A shape is (N, P_A, C), B shape is (N, P_B, C)\n",
    "# D shape is (N, P_A, P_B)                                                             \n",
    "def batch_distance_matrix_general_l1(A, B):\n",
    "    \"\"\"L1 norm\"\"\"\n",
    "    # Add one dimension\n",
    "    Ac = tf.transpose(tf.expand_dims(A, axis=-1), perm=(0,2,1,3))  # (N, C, P_A, 1)\n",
    "    Bc = tf.transpose(tf.expand_dims(B, axis=-1), perm=(0,2,3,1))  # (N, C, 1, P_B)\n",
    "    A_1s = tf.ones_like(Ac)\n",
    "    B_1s = tf.ones_like(Bc)\n",
    "    \n",
    "    A_exp = tf.matmul(Ac, B_1s)  # (N, C, P_A, P_B) where each A[ijk] value is copied along x in A_exp[ijkx]\n",
    "    B_exp = tf.matmul(A_1s, Bc)  # (N, C, P_A, P_B) where each B[ijk] value is copied along x in B_exp[ijxk]\n",
    "    # A_exp - B_exp is now pairwise a_i - b_j for each channel :-)\n",
    "    \n",
    "    D = tf.reduce_max(tf.abs(A_exp - B_exp), axis=1)\n",
    "    print(D.shape)\n",
    "    return D\n",
    "with tf.Session() as sess:\n",
    "    print(batch_distance_matrix_general_l1(A, B).eval())"
   ]
  },
  {
   "cell_type": "code",
   "execution_count": 32,
   "metadata": {},
   "outputs": [
    {
     "name": "stdout",
     "output_type": "stream",
     "text": [
      "C=2 -->  1.7724358944684007\n",
      "C=3 -->  1.611981066781987\n"
     ]
    },
    {
     "data": {
      "text/plain": [
       "1.6119917863337592"
      ]
     },
     "execution_count": 32,
     "metadata": {},
     "output_type": "execute_result"
    }
   ],
   "source": [
    "import math\n",
    "import numpy as np\n",
    "import scipy as sp\n",
    "import scipy.special\n",
    "C = 3\n",
    "print(\"C=2 --> \", np.sqrt(3.141529))\n",
    "print(\"C=3 --> \", np.power(3.141529 * 4/3, 1/3))\n",
    "np.sqrt(3.141592) / np.exp(1.0 / C * sp.special.loggamma(0.5 * C + 1))"
   ]
  }
 ],
 "metadata": {
  "kernelspec": {
   "display_name": "Python 3",
   "language": "python",
   "name": "python3"
  },
  "language_info": {
   "codemirror_mode": {
    "name": "ipython",
    "version": 3
   },
   "file_extension": ".py",
   "mimetype": "text/x-python",
   "name": "python",
   "nbconvert_exporter": "python",
   "pygments_lexer": "ipython3",
   "version": "3.6.9"
  }
 },
 "nbformat": 4,
 "nbformat_minor": 2
}
